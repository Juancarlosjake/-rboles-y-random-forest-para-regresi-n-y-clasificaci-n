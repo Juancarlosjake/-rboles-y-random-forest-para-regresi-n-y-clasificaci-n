{
 "cells": [
  {
   "cell_type": "markdown",
   "id": "cfc8de11",
   "metadata": {},
   "source": [
    "<h1>Árboles de Clasificación<h1>"
   ]
  },
  {
   "cell_type": "code",
   "execution_count": 1,
   "id": "e61278f7",
   "metadata": {},
   "outputs": [],
   "source": [
    "#importamos las librerias\n",
    "import pandas as pd\n",
    "import numpy as np\n",
    "import matplotlib.pyplot as plt\n",
    "import seaborn as sns"
   ]
  },
  {
   "cell_type": "markdown",
   "id": "8775ea71",
   "metadata": {},
   "source": [
    "<p>Primero leemos el archivo csv con el que se estara trabajando y mostramos los primeros 5 datos para observar las variables</p>"
   ]
  },
  {
   "cell_type": "code",
   "execution_count": 2,
   "id": "0d34ec8c",
   "metadata": {},
   "outputs": [
    {
     "data": {
      "text/html": [
       "<div>\n",
       "<style scoped>\n",
       "    .dataframe tbody tr th:only-of-type {\n",
       "        vertical-align: middle;\n",
       "    }\n",
       "\n",
       "    .dataframe tbody tr th {\n",
       "        vertical-align: top;\n",
       "    }\n",
       "\n",
       "    .dataframe thead th {\n",
       "        text-align: right;\n",
       "    }\n",
       "</style>\n",
       "<table border=\"1\" class=\"dataframe\">\n",
       "  <thead>\n",
       "    <tr style=\"text-align: right;\">\n",
       "      <th></th>\n",
       "      <th>Id</th>\n",
       "      <th>MSSubClass</th>\n",
       "      <th>MSZoning</th>\n",
       "      <th>LotFrontage</th>\n",
       "      <th>LotArea</th>\n",
       "      <th>Street</th>\n",
       "      <th>Alley</th>\n",
       "      <th>LotShape</th>\n",
       "      <th>LandContour</th>\n",
       "      <th>Utilities</th>\n",
       "      <th>...</th>\n",
       "      <th>PoolArea</th>\n",
       "      <th>PoolQC</th>\n",
       "      <th>Fence</th>\n",
       "      <th>MiscFeature</th>\n",
       "      <th>MiscVal</th>\n",
       "      <th>MoSold</th>\n",
       "      <th>YrSold</th>\n",
       "      <th>SaleType</th>\n",
       "      <th>SaleCondition</th>\n",
       "      <th>SalePrice</th>\n",
       "    </tr>\n",
       "  </thead>\n",
       "  <tbody>\n",
       "    <tr>\n",
       "      <th>0</th>\n",
       "      <td>1</td>\n",
       "      <td>60</td>\n",
       "      <td>RL</td>\n",
       "      <td>65.0</td>\n",
       "      <td>8450</td>\n",
       "      <td>Pave</td>\n",
       "      <td>NaN</td>\n",
       "      <td>Reg</td>\n",
       "      <td>Lvl</td>\n",
       "      <td>AllPub</td>\n",
       "      <td>...</td>\n",
       "      <td>0</td>\n",
       "      <td>NaN</td>\n",
       "      <td>NaN</td>\n",
       "      <td>NaN</td>\n",
       "      <td>0</td>\n",
       "      <td>2</td>\n",
       "      <td>2008</td>\n",
       "      <td>WD</td>\n",
       "      <td>Normal</td>\n",
       "      <td>208500</td>\n",
       "    </tr>\n",
       "    <tr>\n",
       "      <th>1</th>\n",
       "      <td>2</td>\n",
       "      <td>20</td>\n",
       "      <td>RL</td>\n",
       "      <td>80.0</td>\n",
       "      <td>9600</td>\n",
       "      <td>Pave</td>\n",
       "      <td>NaN</td>\n",
       "      <td>Reg</td>\n",
       "      <td>Lvl</td>\n",
       "      <td>AllPub</td>\n",
       "      <td>...</td>\n",
       "      <td>0</td>\n",
       "      <td>NaN</td>\n",
       "      <td>NaN</td>\n",
       "      <td>NaN</td>\n",
       "      <td>0</td>\n",
       "      <td>5</td>\n",
       "      <td>2007</td>\n",
       "      <td>WD</td>\n",
       "      <td>Normal</td>\n",
       "      <td>181500</td>\n",
       "    </tr>\n",
       "    <tr>\n",
       "      <th>2</th>\n",
       "      <td>3</td>\n",
       "      <td>60</td>\n",
       "      <td>RL</td>\n",
       "      <td>68.0</td>\n",
       "      <td>11250</td>\n",
       "      <td>Pave</td>\n",
       "      <td>NaN</td>\n",
       "      <td>IR1</td>\n",
       "      <td>Lvl</td>\n",
       "      <td>AllPub</td>\n",
       "      <td>...</td>\n",
       "      <td>0</td>\n",
       "      <td>NaN</td>\n",
       "      <td>NaN</td>\n",
       "      <td>NaN</td>\n",
       "      <td>0</td>\n",
       "      <td>9</td>\n",
       "      <td>2008</td>\n",
       "      <td>WD</td>\n",
       "      <td>Normal</td>\n",
       "      <td>223500</td>\n",
       "    </tr>\n",
       "    <tr>\n",
       "      <th>3</th>\n",
       "      <td>4</td>\n",
       "      <td>70</td>\n",
       "      <td>RL</td>\n",
       "      <td>60.0</td>\n",
       "      <td>9550</td>\n",
       "      <td>Pave</td>\n",
       "      <td>NaN</td>\n",
       "      <td>IR1</td>\n",
       "      <td>Lvl</td>\n",
       "      <td>AllPub</td>\n",
       "      <td>...</td>\n",
       "      <td>0</td>\n",
       "      <td>NaN</td>\n",
       "      <td>NaN</td>\n",
       "      <td>NaN</td>\n",
       "      <td>0</td>\n",
       "      <td>2</td>\n",
       "      <td>2006</td>\n",
       "      <td>WD</td>\n",
       "      <td>Abnorml</td>\n",
       "      <td>140000</td>\n",
       "    </tr>\n",
       "    <tr>\n",
       "      <th>4</th>\n",
       "      <td>5</td>\n",
       "      <td>60</td>\n",
       "      <td>RL</td>\n",
       "      <td>84.0</td>\n",
       "      <td>14260</td>\n",
       "      <td>Pave</td>\n",
       "      <td>NaN</td>\n",
       "      <td>IR1</td>\n",
       "      <td>Lvl</td>\n",
       "      <td>AllPub</td>\n",
       "      <td>...</td>\n",
       "      <td>0</td>\n",
       "      <td>NaN</td>\n",
       "      <td>NaN</td>\n",
       "      <td>NaN</td>\n",
       "      <td>0</td>\n",
       "      <td>12</td>\n",
       "      <td>2008</td>\n",
       "      <td>WD</td>\n",
       "      <td>Normal</td>\n",
       "      <td>250000</td>\n",
       "    </tr>\n",
       "  </tbody>\n",
       "</table>\n",
       "<p>5 rows × 81 columns</p>\n",
       "</div>"
      ],
      "text/plain": [
       "   Id  MSSubClass MSZoning  LotFrontage  LotArea Street Alley LotShape  \\\n",
       "0   1          60       RL         65.0     8450   Pave   NaN      Reg   \n",
       "1   2          20       RL         80.0     9600   Pave   NaN      Reg   \n",
       "2   3          60       RL         68.0    11250   Pave   NaN      IR1   \n",
       "3   4          70       RL         60.0     9550   Pave   NaN      IR1   \n",
       "4   5          60       RL         84.0    14260   Pave   NaN      IR1   \n",
       "\n",
       "  LandContour Utilities  ... PoolArea PoolQC Fence MiscFeature MiscVal MoSold  \\\n",
       "0         Lvl    AllPub  ...        0    NaN   NaN         NaN       0      2   \n",
       "1         Lvl    AllPub  ...        0    NaN   NaN         NaN       0      5   \n",
       "2         Lvl    AllPub  ...        0    NaN   NaN         NaN       0      9   \n",
       "3         Lvl    AllPub  ...        0    NaN   NaN         NaN       0      2   \n",
       "4         Lvl    AllPub  ...        0    NaN   NaN         NaN       0     12   \n",
       "\n",
       "  YrSold  SaleType  SaleCondition  SalePrice  \n",
       "0   2008        WD         Normal     208500  \n",
       "1   2007        WD         Normal     181500  \n",
       "2   2008        WD         Normal     223500  \n",
       "3   2006        WD        Abnorml     140000  \n",
       "4   2008        WD         Normal     250000  \n",
       "\n",
       "[5 rows x 81 columns]"
      ]
     },
     "execution_count": 2,
     "metadata": {},
     "output_type": "execute_result"
    }
   ],
   "source": [
    "dfTrain = pd.read_csv(\"housing_train.csv\")\n",
    "dfTrain.shape\n",
    "dfTrain.head()"
   ]
  },
  {
   "cell_type": "markdown",
   "id": "cf430433",
   "metadata": {},
   "source": [
    "<p>Mostramos la informacion de cada variable para seleccionar los valores que son de interes para la practica, en este caso se deberan tomar valores categoricos por ejemplo el estado de la casa,zona donde se ubica la vivienda, etc.\n",
    "\n",
    "Se seleccionan las variables y se realiza un muestro para ver posibles valores nulos.</p>"
   ]
  },
  {
   "cell_type": "code",
   "execution_count": 3,
   "id": "a13f488e",
   "metadata": {},
   "outputs": [
    {
     "name": "stdout",
     "output_type": "stream",
     "text": [
      "<class 'pandas.core.frame.DataFrame'>\n",
      "RangeIndex: 1460 entries, 0 to 1459\n",
      "Data columns (total 81 columns):\n",
      " #   Column         Non-Null Count  Dtype  \n",
      "---  ------         --------------  -----  \n",
      " 0   Id             1460 non-null   int64  \n",
      " 1   MSSubClass     1460 non-null   int64  \n",
      " 2   MSZoning       1460 non-null   object \n",
      " 3   LotFrontage    1201 non-null   float64\n",
      " 4   LotArea        1460 non-null   int64  \n",
      " 5   Street         1460 non-null   object \n",
      " 6   Alley          91 non-null     object \n",
      " 7   LotShape       1460 non-null   object \n",
      " 8   LandContour    1460 non-null   object \n",
      " 9   Utilities      1460 non-null   object \n",
      " 10  LotConfig      1460 non-null   object \n",
      " 11  LandSlope      1460 non-null   object \n",
      " 12  Neighborhood   1460 non-null   object \n",
      " 13  Condition1     1460 non-null   object \n",
      " 14  Condition2     1460 non-null   object \n",
      " 15  BldgType       1460 non-null   object \n",
      " 16  HouseStyle     1460 non-null   object \n",
      " 17  OverallQual    1460 non-null   int64  \n",
      " 18  OverallCond    1460 non-null   int64  \n",
      " 19  YearBuilt      1460 non-null   int64  \n",
      " 20  YearRemodAdd   1460 non-null   int64  \n",
      " 21  RoofStyle      1460 non-null   object \n",
      " 22  RoofMatl       1460 non-null   object \n",
      " 23  Exterior1st    1460 non-null   object \n",
      " 24  Exterior2nd    1460 non-null   object \n",
      " 25  MasVnrType     1452 non-null   object \n",
      " 26  MasVnrArea     1452 non-null   float64\n",
      " 27  ExterQual      1460 non-null   object \n",
      " 28  ExterCond      1460 non-null   object \n",
      " 29  Foundation     1460 non-null   object \n",
      " 30  BsmtQual       1423 non-null   object \n",
      " 31  BsmtCond       1423 non-null   object \n",
      " 32  BsmtExposure   1422 non-null   object \n",
      " 33  BsmtFinType1   1423 non-null   object \n",
      " 34  BsmtFinSF1     1460 non-null   int64  \n",
      " 35  BsmtFinType2   1422 non-null   object \n",
      " 36  BsmtFinSF2     1460 non-null   int64  \n",
      " 37  BsmtUnfSF      1460 non-null   int64  \n",
      " 38  TotalBsmtSF    1460 non-null   int64  \n",
      " 39  Heating        1460 non-null   object \n",
      " 40  HeatingQC      1460 non-null   object \n",
      " 41  CentralAir     1460 non-null   object \n",
      " 42  Electrical     1459 non-null   object \n",
      " 43  1stFlrSF       1460 non-null   int64  \n",
      " 44  2ndFlrSF       1460 non-null   int64  \n",
      " 45  LowQualFinSF   1460 non-null   int64  \n",
      " 46  GrLivArea      1460 non-null   int64  \n",
      " 47  BsmtFullBath   1460 non-null   int64  \n",
      " 48  BsmtHalfBath   1460 non-null   int64  \n",
      " 49  FullBath       1460 non-null   int64  \n",
      " 50  HalfBath       1460 non-null   int64  \n",
      " 51  BedroomAbvGr   1460 non-null   int64  \n",
      " 52  KitchenAbvGr   1460 non-null   int64  \n",
      " 53  KitchenQual    1460 non-null   object \n",
      " 54  TotRmsAbvGrd   1460 non-null   int64  \n",
      " 55  Functional     1460 non-null   object \n",
      " 56  Fireplaces     1460 non-null   int64  \n",
      " 57  FireplaceQu    770 non-null    object \n",
      " 58  GarageType     1379 non-null   object \n",
      " 59  GarageYrBlt    1379 non-null   float64\n",
      " 60  GarageFinish   1379 non-null   object \n",
      " 61  GarageCars     1460 non-null   int64  \n",
      " 62  GarageArea     1460 non-null   int64  \n",
      " 63  GarageQual     1379 non-null   object \n",
      " 64  GarageCond     1379 non-null   object \n",
      " 65  PavedDrive     1460 non-null   object \n",
      " 66  WoodDeckSF     1460 non-null   int64  \n",
      " 67  OpenPorchSF    1460 non-null   int64  \n",
      " 68  EnclosedPorch  1460 non-null   int64  \n",
      " 69  3SsnPorch      1460 non-null   int64  \n",
      " 70  ScreenPorch    1460 non-null   int64  \n",
      " 71  PoolArea       1460 non-null   int64  \n",
      " 72  PoolQC         7 non-null      object \n",
      " 73  Fence          281 non-null    object \n",
      " 74  MiscFeature    54 non-null     object \n",
      " 75  MiscVal        1460 non-null   int64  \n",
      " 76  MoSold         1460 non-null   int64  \n",
      " 77  YrSold         1460 non-null   int64  \n",
      " 78  SaleType       1460 non-null   object \n",
      " 79  SaleCondition  1460 non-null   object \n",
      " 80  SalePrice      1460 non-null   int64  \n",
      "dtypes: float64(3), int64(35), object(43)\n",
      "memory usage: 924.0+ KB\n"
     ]
    }
   ],
   "source": [
    "dfTrain.info()"
   ]
  },
  {
   "cell_type": "markdown",
   "id": "041b6e62",
   "metadata": {},
   "source": [
    "<p>Se realiza un filtrado con las columnas de nuestro interes para reducir el dataset y nuevamente se realiza un muestreo de las primeras variables.</p>"
   ]
  },
  {
   "cell_type": "code",
   "execution_count": 4,
   "id": "6b28550e",
   "metadata": {},
   "outputs": [
    {
     "data": {
      "text/html": [
       "<div>\n",
       "<style scoped>\n",
       "    .dataframe tbody tr th:only-of-type {\n",
       "        vertical-align: middle;\n",
       "    }\n",
       "\n",
       "    .dataframe tbody tr th {\n",
       "        vertical-align: top;\n",
       "    }\n",
       "\n",
       "    .dataframe thead th {\n",
       "        text-align: right;\n",
       "    }\n",
       "</style>\n",
       "<table border=\"1\" class=\"dataframe\">\n",
       "  <thead>\n",
       "    <tr style=\"text-align: right;\">\n",
       "      <th></th>\n",
       "      <th>LotConfig</th>\n",
       "      <th>BldgType</th>\n",
       "      <th>OverallCond</th>\n",
       "      <th>Exterior1st</th>\n",
       "      <th>SalePrice</th>\n",
       "      <th>LotFrontage</th>\n",
       "    </tr>\n",
       "  </thead>\n",
       "  <tbody>\n",
       "    <tr>\n",
       "      <th>0</th>\n",
       "      <td>Inside</td>\n",
       "      <td>1Fam</td>\n",
       "      <td>5</td>\n",
       "      <td>VinylSd</td>\n",
       "      <td>208500</td>\n",
       "      <td>65.0</td>\n",
       "    </tr>\n",
       "    <tr>\n",
       "      <th>1</th>\n",
       "      <td>FR2</td>\n",
       "      <td>1Fam</td>\n",
       "      <td>8</td>\n",
       "      <td>MetalSd</td>\n",
       "      <td>181500</td>\n",
       "      <td>80.0</td>\n",
       "    </tr>\n",
       "    <tr>\n",
       "      <th>2</th>\n",
       "      <td>Inside</td>\n",
       "      <td>1Fam</td>\n",
       "      <td>5</td>\n",
       "      <td>VinylSd</td>\n",
       "      <td>223500</td>\n",
       "      <td>68.0</td>\n",
       "    </tr>\n",
       "    <tr>\n",
       "      <th>3</th>\n",
       "      <td>Corner</td>\n",
       "      <td>1Fam</td>\n",
       "      <td>5</td>\n",
       "      <td>Wd Sdng</td>\n",
       "      <td>140000</td>\n",
       "      <td>60.0</td>\n",
       "    </tr>\n",
       "    <tr>\n",
       "      <th>4</th>\n",
       "      <td>FR2</td>\n",
       "      <td>1Fam</td>\n",
       "      <td>5</td>\n",
       "      <td>VinylSd</td>\n",
       "      <td>250000</td>\n",
       "      <td>84.0</td>\n",
       "    </tr>\n",
       "  </tbody>\n",
       "</table>\n",
       "</div>"
      ],
      "text/plain": [
       "  LotConfig BldgType  OverallCond Exterior1st  SalePrice  LotFrontage\n",
       "0    Inside     1Fam            5     VinylSd     208500         65.0\n",
       "1       FR2     1Fam            8     MetalSd     181500         80.0\n",
       "2    Inside     1Fam            5     VinylSd     223500         68.0\n",
       "3    Corner     1Fam            5     Wd Sdng     140000         60.0\n",
       "4       FR2     1Fam            5     VinylSd     250000         84.0"
      ]
     },
     "execution_count": 4,
     "metadata": {},
     "output_type": "execute_result"
    }
   ],
   "source": [
    "dfFilter1 = dfTrain[[\"LotConfig\",\"BldgType\",\"OverallCond\",\n",
    "                    \"Exterior1st\",\"SalePrice\",\"LotFrontage\"]]\n",
    "dfFilter1.head()"
   ]
  },
  {
   "cell_type": "markdown",
   "id": "49dd7043",
   "metadata": {},
   "source": [
    "<p>Ahora se puede realizar un conteo del tipo de variable, ya sea categorica (object), entera (int) o flotante (float).</p>"
   ]
  },
  {
   "cell_type": "code",
   "execution_count": 5,
   "id": "f8c367fc",
   "metadata": {},
   "outputs": [
    {
     "name": "stdout",
     "output_type": "stream",
     "text": [
      "Variables Categoricas: 3\n",
      "variables Enteras: 2\n",
      "Variables Flotantes: 1\n"
     ]
    }
   ],
   "source": [
    "obj = (dfFilter1.dtypes == 'object')\n",
    "object_cols = list(obj[obj].index)\n",
    "print(\"Variables Categoricas:\",len(object_cols))\n",
    " \n",
    "int_ = (dfFilter1.dtypes == 'int64')\n",
    "num_cols = list(int_[int_].index)\n",
    "print(\"variables Enteras:\",len(num_cols))\n",
    " \n",
    "fl = (dfFilter1.dtypes == 'float')\n",
    "fl_cols = list(fl[fl].index)\n",
    "print(\"Variables Flotantes:\",len(fl_cols))"
   ]
  },
  {
   "cell_type": "markdown",
   "id": "fe2aa090",
   "metadata": {},
   "source": [
    "<p>Para un analisis mas profundo de los datos utilizados, se realiza un mapa de calor o matriz de correlación.</p>"
   ]
  },
  {
   "cell_type": "code",
   "execution_count": 6,
   "id": "d642f377",
   "metadata": {
    "scrolled": true
   },
   "outputs": [
    {
     "data": {
      "text/plain": [
       "<AxesSubplot:>"
      ]
     },
     "execution_count": 6,
     "metadata": {},
     "output_type": "execute_result"
    },
    {
     "data": {
      "image/png": "[encoded data removed]",
      "text/plain": [
       "<Figure size 864x432 with 2 Axes>"
      ]
     },
     "metadata": {
      "needs_background": "light"
     },
     "output_type": "display_data"
    }
   ],
   "source": [
    "plt.figure(figsize=(12, 6))\n",
    "sns.heatmap(dfFilter1.corr(),\n",
    "            cmap = 'BrBG',\n",
    "            fmt = '.2f',\n",
    "            linewidths = 2,\n",
    "            annot = True)"
   ]
  },
  {
   "cell_type": "markdown",
   "id": "3ef2ef35",
   "metadata": {},
   "source": [
    "<p>Para analizar las diferentes variables categoricas, se realizan distintos graficos de barras para observar su comportamiento.</p>"
   ]
  },
  {
   "cell_type": "code",
   "execution_count": 7,
   "id": "4368d54f",
   "metadata": {},
   "outputs": [
    {
     "data": {
      "text/plain": [
       "<AxesSubplot:title={'center':'No. de valores unicos de las variables categoricas'}>"
      ]
     },
     "execution_count": 7,
     "metadata": {},
     "output_type": "execute_result"
    },
    {
     "data": {
      "image/png": "[encoded data removed]",
      "text/plain": [
       "<Figure size 720x432 with 1 Axes>"
      ]
     },
     "metadata": {
      "needs_background": "light"
     },
     "output_type": "display_data"
    }
   ],
   "source": [
    "unique_values = []\n",
    "for col in object_cols:\n",
    "  unique_values.append(dfFilter1[col].unique().size)\n",
    "plt.figure(figsize=(10,6))\n",
    "plt.title('No. de valores unicos de las variables categoricas')\n",
    "plt.xticks(rotation=90)\n",
    "sns.barplot(x=object_cols,y=unique_values)"
   ]
  },
  {
   "cell_type": "markdown",
   "id": "70d03608",
   "metadata": {},
   "source": [
    "<p>Como se puede observar la variable con mas categorias es Exterior1st con 15 aproximadamente, la cual se refiere al tipo de revestimiento exterior de la casa. Para ver el resto de las categorias se crean mas graficos de barra para cada una de las variables</p>"
   ]
  },
  {
   "cell_type": "code",
   "execution_count": 8,
   "id": "14eab111",
   "metadata": {
    "scrolled": true
   },
   "outputs": [
    {
     "data": {
      "image/png": "[encoded data removed]",
      "text/plain": [
       "<Figure size 1440x2880 with 3 Axes>"
      ]
     },
     "metadata": {
      "needs_background": "light"
     },
     "output_type": "display_data"
    }
   ],
   "source": [
    "plt.figure(figsize=(20, 40))\n",
    "plt.xticks(rotation=90)\n",
    "index = 1\n",
    " \n",
    "for col in object_cols:\n",
    "    y = dfFilter1[col].value_counts()\n",
    "    plt.subplot(11, 4, index)\n",
    "    plt.xticks(rotation=90)\n",
    "    sns.barplot(x=list(y.index), y=y)\n",
    "    index += 1"
   ]
  },
  {
   "cell_type": "code",
   "execution_count": 9,
   "id": "4e2822e9",
   "metadata": {},
   "outputs": [
    {
     "data": {
      "text/plain": [
       "<AxesSubplot:ylabel='Exterior1st'>"
      ]
     },
     "execution_count": 9,
     "metadata": {},
     "output_type": "execute_result"
    },
    {
     "data": {
      "image/png": "[encoded data removed]",
      "text/plain": [
       "<Figure size 2160x3600 with 1 Axes>"
      ]
     },
     "metadata": {
      "needs_background": "light"
     },
     "output_type": "display_data"
    }
   ],
   "source": [
    "plt.figure(figsize=(30, 50))\n",
    "plt.xticks(rotation=90)\n",
    "index = 1\n",
    "y = dfFilter1[col].value_counts()\n",
    "plt.subplot(11, 4, index)\n",
    "plt.xticks(rotation=90)\n",
    "sns.barplot(x=list(y.index), y=y)"
   ]
  },
  {
   "cell_type": "markdown",
   "id": "ff02778f",
   "metadata": {},
   "source": [
    "<p>Una vez identificada cada una de las variables y sus etiquetas,se puede identificar los valores nulos y darles el tratamiento adecuado dependiendo del set de datos</p>"
   ]
  },
  {
   "cell_type": "code",
   "execution_count": 10,
   "id": "81f0e63f",
   "metadata": {},
   "outputs": [
    {
     "data": {
      "text/plain": [
       "LotConfig        0\n",
       "BldgType         0\n",
       "OverallCond      0\n",
       "Exterior1st      0\n",
       "SalePrice        0\n",
       "LotFrontage    259\n",
       "dtype: int64"
      ]
     },
     "execution_count": 10,
     "metadata": {},
     "output_type": "execute_result"
    }
   ],
   "source": [
    "dfFilter1.isnull().sum()"
   ]
  },
  {
   "cell_type": "markdown",
   "id": "65feedfd",
   "metadata": {},
   "source": [
    "<p>En este caso como la variable solo presenta 259 datos nulos, se procedera a rellenar con una media la variable \"LotFrontage\"</p>"
   ]
  },
  {
   "cell_type": "code",
   "execution_count": 11,
   "id": "34e67509",
   "metadata": {},
   "outputs": [
    {
     "name": "stderr",
     "output_type": "stream",
     "text": [
      "C:\\Users\\jcarl\\AppData\\Local\\Temp\\ipykernel_28392\\1333787699.py:1: SettingWithCopyWarning: \n",
      "A value is trying to be set on a copy of a slice from a DataFrame.\n",
      "Try using .loc[row_indexer,col_indexer] = value instead\n",
      "\n",
      "See the caveats in the documentation: https://pandas.pydata.org/pandas-docs/stable/user_guide/indexing.html#returning-a-view-versus-a-copy\n",
      "  dfFilter1['LotFrontage'] = dfFilter1['LotFrontage'].fillna(\n"
     ]
    }
   ],
   "source": [
    "dfFilter1['LotFrontage'] = dfFilter1['LotFrontage'].fillna(\n",
    "dfFilter1['LotFrontage'].mean())"
   ]
  },
  {
   "cell_type": "code",
   "execution_count": 12,
   "id": "6cff7c18",
   "metadata": {},
   "outputs": [
    {
     "data": {
      "text/plain": [
       "LotConfig      0\n",
       "BldgType       0\n",
       "OverallCond    0\n",
       "Exterior1st    0\n",
       "SalePrice      0\n",
       "LotFrontage    0\n",
       "dtype: int64"
      ]
     },
     "execution_count": 12,
     "metadata": {},
     "output_type": "execute_result"
    }
   ],
   "source": [
    "dfFilter1.isnull().sum()"
   ]
  },
  {
   "cell_type": "markdown",
   "id": "f177b535",
   "metadata": {},
   "source": [
    "<p>Para convertir las variables de tipo categoricas a un formato que se pueda interpretar, se utiliza la funcion dummies de la libreria de pandas</p>"
   ]
  },
  {
   "cell_type": "code",
   "execution_count": 13,
   "id": "4fd54b64",
   "metadata": {},
   "outputs": [],
   "source": [
    "df = pd.get_dummies(data = dfFilter1,drop_first = True)"
   ]
  },
  {
   "cell_type": "markdown",
   "id": "381affcc",
   "metadata": {},
   "source": [
    "<p>Para crear nuestro arbol de decisión de regresión, se separa el set de datos en 2, dejaremos la parte de la variable objetivo que es el precio en eje y y el resto de variables en el eje X.</p> "
   ]
  },
  {
   "cell_type": "code",
   "execution_count": 14,
   "id": "772fc987",
   "metadata": {},
   "outputs": [],
   "source": [
    "X = df.drop(columns='SalePrice')\n",
    "y = df.SalePrice"
   ]
  },
  {
   "cell_type": "markdown",
   "id": "78067192",
   "metadata": {},
   "source": [
    "<p>Para crear nuestro modelo se debera importar una nueva libreria para separar los conjuntos de informacion en sets de entrenamiento y sets de prueba</p>"
   ]
  },
  {
   "cell_type": "code",
   "execution_count": 15,
   "id": "922e5ff6",
   "metadata": {},
   "outputs": [],
   "source": [
    "from sklearn.metrics import mean_absolute_error\n",
    "from sklearn.model_selection import train_test_split\n",
    " \n",
    "X_train, X_test, y_train, y_test = train_test_split(X, y,test_size=0.25, random_state=0)"
   ]
  },
  {
   "cell_type": "markdown",
   "id": "beb277ef",
   "metadata": {},
   "source": [
    "<p>Posteriormente se importa una nueva libreria para realizar el arbol de clasificación, se le indica la profundidad que tendra el arbol y se pasan los sets de entrenamiento creados anteriormente y se muestra la representacion del arbol</p>"
   ]
  },
  {
   "cell_type": "code",
   "execution_count": 16,
   "id": "f323d1cd",
   "metadata": {},
   "outputs": [],
   "source": [
    "from sklearn.tree import DecisionTreeClassifier\n",
    "tree = DecisionTreeClassifier(max_depth=10,criterion='gini')\n",
    "modelo1 = tree.fit(X_train,y_train)"
   ]
  },
  {
   "cell_type": "code",
   "execution_count": 17,
   "id": "8e2ecf04",
   "metadata": {},
   "outputs": [
    {
     "data": {
      "text/plain": [
       "'\"tree.plot_tree(\\n              decision_tree = modelo1,\\n              feature_names = X.columns,\\n              rounded=False,\\n             # class_names=\\'SalePrice\\',\\n              fontsize = 10,\\n              precision = 2,\\n              filled = True);'"
      ]
     },
     "execution_count": 17,
     "metadata": {},
     "output_type": "execute_result"
    }
   ],
   "source": [
    "from sklearn import tree\n",
    "#fig = plt.figure(figsize=(25,20))\n",
    "\n",
    "\"\"\"\"tree.plot_tree(\n",
    "              decision_tree = modelo1,\n",
    "              feature_names = X.columns,\n",
    "              rounded=False,\n",
    "             # class_names='SalePrice',\n",
    "              fontsize = 10,\n",
    "              precision = 2,\n",
    "              filled = True);\"\"\"\n",
    "#plt.show()"
   ]
  },
  {
   "cell_type": "code",
   "execution_count": 18,
   "id": "bbfd90a4",
   "metadata": {},
   "outputs": [],
   "source": [
    "y_pred=modelo1.predict(X_test)\n",
    "y_trainOut=modelo1.predict(X_train)"
   ]
  },
  {
   "cell_type": "code",
   "execution_count": 19,
   "id": "a8f1e384",
   "metadata": {},
   "outputs": [
    {
     "name": "stdout",
     "output_type": "stream",
     "text": [
      "Accuracy: 0.2273972602739726\n",
      "puntuación del modelo en los datos de entrenamiento: 0.2273972602739726\n",
      "puntuación del modelo en los datos de testing: 0.00821917808219178\n"
     ]
    }
   ],
   "source": [
    "from sklearn import metrics\n",
    "print(\"Accuracy:\",metrics.accuracy_score(y_train, y_trainOut))\n",
    "#print(\"Accuracy:\",metrics.accuracy_score(y_test, y_pred))\n",
    "print(f'puntuación del modelo en los datos de entrenamiento: {modelo1.score(X_train, y_train)}')\n",
    "print(f'puntuación del modelo en los datos de testing: {modelo1.score(X_test, y_test)}')"
   ]
  },
  {
   "cell_type": "markdown",
   "id": "760383f0",
   "metadata": {},
   "source": [
    "<p>Con esto se puede decir que este modelo no es bueno,ya que solo tiene un 0.022% de probabilidad de predecir el precio.\n",
    "\n",
    "Se prueba a reducir el set de datos, eliminando la variable que mas etiquetas tiene, en este caso es \"Exterior1st\".</p>"
   ]
  },
  {
   "cell_type": "code",
   "execution_count": 20,
   "id": "e2404fdc",
   "metadata": {},
   "outputs": [
    {
     "data": {
      "text/html": [
       "<div>\n",
       "<style scoped>\n",
       "    .dataframe tbody tr th:only-of-type {\n",
       "        vertical-align: middle;\n",
       "    }\n",
       "\n",
       "    .dataframe tbody tr th {\n",
       "        vertical-align: top;\n",
       "    }\n",
       "\n",
       "    .dataframe thead th {\n",
       "        text-align: right;\n",
       "    }\n",
       "</style>\n",
       "<table border=\"1\" class=\"dataframe\">\n",
       "  <thead>\n",
       "    <tr style=\"text-align: right;\">\n",
       "      <th></th>\n",
       "      <th>LotConfig</th>\n",
       "      <th>BldgType</th>\n",
       "      <th>OverallCond</th>\n",
       "      <th>SalePrice</th>\n",
       "      <th>LotFrontage</th>\n",
       "    </tr>\n",
       "  </thead>\n",
       "  <tbody>\n",
       "    <tr>\n",
       "      <th>0</th>\n",
       "      <td>Inside</td>\n",
       "      <td>1Fam</td>\n",
       "      <td>5</td>\n",
       "      <td>208500</td>\n",
       "      <td>65.0</td>\n",
       "    </tr>\n",
       "    <tr>\n",
       "      <th>1</th>\n",
       "      <td>FR2</td>\n",
       "      <td>1Fam</td>\n",
       "      <td>8</td>\n",
       "      <td>181500</td>\n",
       "      <td>80.0</td>\n",
       "    </tr>\n",
       "    <tr>\n",
       "      <th>2</th>\n",
       "      <td>Inside</td>\n",
       "      <td>1Fam</td>\n",
       "      <td>5</td>\n",
       "      <td>223500</td>\n",
       "      <td>68.0</td>\n",
       "    </tr>\n",
       "    <tr>\n",
       "      <th>3</th>\n",
       "      <td>Corner</td>\n",
       "      <td>1Fam</td>\n",
       "      <td>5</td>\n",
       "      <td>140000</td>\n",
       "      <td>60.0</td>\n",
       "    </tr>\n",
       "    <tr>\n",
       "      <th>4</th>\n",
       "      <td>FR2</td>\n",
       "      <td>1Fam</td>\n",
       "      <td>5</td>\n",
       "      <td>250000</td>\n",
       "      <td>84.0</td>\n",
       "    </tr>\n",
       "    <tr>\n",
       "      <th>...</th>\n",
       "      <td>...</td>\n",
       "      <td>...</td>\n",
       "      <td>...</td>\n",
       "      <td>...</td>\n",
       "      <td>...</td>\n",
       "    </tr>\n",
       "    <tr>\n",
       "      <th>1455</th>\n",
       "      <td>Inside</td>\n",
       "      <td>1Fam</td>\n",
       "      <td>5</td>\n",
       "      <td>175000</td>\n",
       "      <td>62.0</td>\n",
       "    </tr>\n",
       "    <tr>\n",
       "      <th>1456</th>\n",
       "      <td>Inside</td>\n",
       "      <td>1Fam</td>\n",
       "      <td>6</td>\n",
       "      <td>210000</td>\n",
       "      <td>85.0</td>\n",
       "    </tr>\n",
       "    <tr>\n",
       "      <th>1457</th>\n",
       "      <td>Inside</td>\n",
       "      <td>1Fam</td>\n",
       "      <td>9</td>\n",
       "      <td>266500</td>\n",
       "      <td>66.0</td>\n",
       "    </tr>\n",
       "    <tr>\n",
       "      <th>1458</th>\n",
       "      <td>Inside</td>\n",
       "      <td>1Fam</td>\n",
       "      <td>6</td>\n",
       "      <td>142125</td>\n",
       "      <td>68.0</td>\n",
       "    </tr>\n",
       "    <tr>\n",
       "      <th>1459</th>\n",
       "      <td>Inside</td>\n",
       "      <td>1Fam</td>\n",
       "      <td>6</td>\n",
       "      <td>147500</td>\n",
       "      <td>75.0</td>\n",
       "    </tr>\n",
       "  </tbody>\n",
       "</table>\n",
       "<p>1460 rows × 5 columns</p>\n",
       "</div>"
      ],
      "text/plain": [
       "     LotConfig BldgType  OverallCond  SalePrice  LotFrontage\n",
       "0       Inside     1Fam            5     208500         65.0\n",
       "1          FR2     1Fam            8     181500         80.0\n",
       "2       Inside     1Fam            5     223500         68.0\n",
       "3       Corner     1Fam            5     140000         60.0\n",
       "4          FR2     1Fam            5     250000         84.0\n",
       "...        ...      ...          ...        ...          ...\n",
       "1455    Inside     1Fam            5     175000         62.0\n",
       "1456    Inside     1Fam            6     210000         85.0\n",
       "1457    Inside     1Fam            9     266500         66.0\n",
       "1458    Inside     1Fam            6     142125         68.0\n",
       "1459    Inside     1Fam            6     147500         75.0\n",
       "\n",
       "[1460 rows x 5 columns]"
      ]
     },
     "execution_count": 20,
     "metadata": {},
     "output_type": "execute_result"
    }
   ],
   "source": [
    "dfFilter2 = dfFilter1.drop(columns='Exterior1st')\n",
    "dfFilter2"
   ]
  },
  {
   "cell_type": "code",
   "execution_count": 21,
   "id": "fad448fa",
   "metadata": {},
   "outputs": [],
   "source": [
    "df2 = pd.get_dummies(data = dfFilter2,drop_first = True)"
   ]
  },
  {
   "cell_type": "code",
   "execution_count": 22,
   "id": "735f9480",
   "metadata": {},
   "outputs": [],
   "source": [
    "X2 = df2.drop(columns='SalePrice')\n",
    "y2 = df2.SalePrice"
   ]
  },
  {
   "cell_type": "code",
   "execution_count": 23,
   "id": "2c93f0af",
   "metadata": {},
   "outputs": [],
   "source": [
    "X_train2, X_test2, y_train2, y_test2 = train_test_split(X2, y2,test_size=0.20, random_state=0)\n",
    "tree2 = DecisionTreeClassifier(max_depth=20,criterion='entropy')\n",
    "modelo2 = tree2.fit(X_train2,y_train2)"
   ]
  },
  {
   "cell_type": "code",
   "execution_count": 24,
   "id": "5818235b",
   "metadata": {},
   "outputs": [],
   "source": [
    "y_pred2 = modelo2.predict(X2)"
   ]
  },
  {
   "cell_type": "code",
   "execution_count": 25,
   "id": "fdc2e818",
   "metadata": {},
   "outputs": [
    {
     "data": {
      "text/html": [
       "<div>\n",
       "<style scoped>\n",
       "    .dataframe tbody tr th:only-of-type {\n",
       "        vertical-align: middle;\n",
       "    }\n",
       "\n",
       "    .dataframe tbody tr th {\n",
       "        vertical-align: top;\n",
       "    }\n",
       "\n",
       "    .dataframe thead th {\n",
       "        text-align: right;\n",
       "    }\n",
       "</style>\n",
       "<table border=\"1\" class=\"dataframe\">\n",
       "  <thead>\n",
       "    <tr style=\"text-align: right;\">\n",
       "      <th></th>\n",
       "      <th>SalePrice</th>\n",
       "      <th>Prediccion 2 del precio</th>\n",
       "    </tr>\n",
       "  </thead>\n",
       "  <tbody>\n",
       "    <tr>\n",
       "      <th>1402</th>\n",
       "      <td>193879</td>\n",
       "      <td>194500</td>\n",
       "    </tr>\n",
       "    <tr>\n",
       "      <th>732</th>\n",
       "      <td>222500</td>\n",
       "      <td>111000</td>\n",
       "    </tr>\n",
       "    <tr>\n",
       "      <th>30</th>\n",
       "      <td>40000</td>\n",
       "      <td>40000</td>\n",
       "    </tr>\n",
       "    <tr>\n",
       "      <th>1452</th>\n",
       "      <td>145000</td>\n",
       "      <td>140000</td>\n",
       "    </tr>\n",
       "    <tr>\n",
       "      <th>1116</th>\n",
       "      <td>184100</td>\n",
       "      <td>180000</td>\n",
       "    </tr>\n",
       "    <tr>\n",
       "      <th>989</th>\n",
       "      <td>197000</td>\n",
       "      <td>100000</td>\n",
       "    </tr>\n",
       "    <tr>\n",
       "      <th>1217</th>\n",
       "      <td>229456</td>\n",
       "      <td>139000</td>\n",
       "    </tr>\n",
       "    <tr>\n",
       "      <th>258</th>\n",
       "      <td>231500</td>\n",
       "      <td>119000</td>\n",
       "    </tr>\n",
       "    <tr>\n",
       "      <th>699</th>\n",
       "      <td>196000</td>\n",
       "      <td>196000</td>\n",
       "    </tr>\n",
       "    <tr>\n",
       "      <th>1251</th>\n",
       "      <td>171750</td>\n",
       "      <td>171750</td>\n",
       "    </tr>\n",
       "  </tbody>\n",
       "</table>\n",
       "</div>"
      ],
      "text/plain": [
       "      SalePrice  Prediccion 2 del precio\n",
       "1402     193879                   194500\n",
       "732      222500                   111000\n",
       "30        40000                    40000\n",
       "1452     145000                   140000\n",
       "1116     184100                   180000\n",
       "989      197000                   100000\n",
       "1217     229456                   139000\n",
       "258      231500                   119000\n",
       "699      196000                   196000\n",
       "1251     171750                   171750"
      ]
     },
     "execution_count": 25,
     "metadata": {},
     "output_type": "execute_result"
    }
   ],
   "source": [
    "df2['Prediccion 2 del precio'] = y_pred2\n",
    "df2.sample(10)[['SalePrice','Prediccion 2 del precio']]"
   ]
  },
  {
   "cell_type": "code",
   "execution_count": 26,
   "id": "a3a31ebb",
   "metadata": {},
   "outputs": [
    {
     "name": "stdout",
     "output_type": "stream",
     "text": [
      "Accuracy: 0.4041095890410959\n",
      "puntuación del modelo en los datos de entrenamiento: 0.4041095890410959\n",
      "puntuación del modelo en los datos de testing: 0.00684931506849315\n"
     ]
    }
   ],
   "source": [
    "y_trainOut2=modelo2.predict(X_train2)\n",
    "print(\"Accuracy:\",metrics.accuracy_score(y_train2, y_trainOut2))\n",
    "print(f'puntuación del modelo en los datos de entrenamiento: {modelo2.score(X_train2, y_train2)}')\n",
    "print(f'puntuación del modelo en los datos de testing: {modelo2.score(X_test2, y_test2)}')"
   ]
  },
  {
   "cell_type": "markdown",
   "id": "ed64630f",
   "metadata": {},
   "source": [
    "<p>Como se puede observar nuestro modelo mejora respecto a los datos de aciertos y la puntuación del modelo, sin embargo sigue siendo ineficiente para este ejercicio.\n",
    "\n",
    "Se puede realizar un mejor analisis con una grafica para ver que valores se relacionan mas con la variable objetivo.</p>"
   ]
  },
  {
   "cell_type": "code",
   "execution_count": 27,
   "id": "0d2160c6",
   "metadata": {},
   "outputs": [
    {
     "data": {
      "image/png": "[encoded data removed]",
      "text/plain": [
       "<Figure size 540x540 with 12 Axes>"
      ]
     },
     "metadata": {
      "needs_background": "light"
     },
     "output_type": "display_data"
    }
   ],
   "source": [
    "train_dataset = dfFilter2.copy()\n",
    "#train_dataset.insert(0, \"SalePrice\", y_train2)\n",
    "_ = sns.pairplot(\n",
    "    train_dataset[['SalePrice', 'LotConfig', 'BldgType', 'OverallCond', 'LotFrontage']],\n",
    "    kind='reg', diag_kind='kde', plot_kws={'scatter_kws': {'alpha': 0.1}})"
   ]
  },
  {
   "cell_type": "markdown",
   "id": "f9b5d1b3",
   "metadata": {},
   "source": [
    "<p>Vemos en la grafica que el precio de la vivienda parece estar postivamente correlacionado con la variable LotFrontage ya que presentan un comportamiento muy similar en las graficas. Con esto se podrian utilizar diferentes variables para realizar un mejor dataset o bien utilizar un modelo de regresión, como el anterior visto, ya que el modelo genera mejores resultados de predicción.</p>"
   ]
  },
  {
   "cell_type": "markdown",
   "id": "f196e53d",
   "metadata": {},
   "source": [
    "<h1>Random Forest Clasificación</h1>"
   ]
  },
  {
   "cell_type": "markdown",
   "id": "7da1c1a1",
   "metadata": {},
   "source": [
    "<p>Para esta practica, Reducideremos nuestros datos y utlizando la tecnica de bootstraping daremos el 1/10 de los datos para que sea mas facil de manejar para nuestros arboles.\n",
    "\n",
    "Primero tomaremos los valores para armar nuestro modelo.</p>"
   ]
  },
  {
   "cell_type": "code",
   "execution_count": 28,
   "id": "346c6c9d",
   "metadata": {
    "scrolled": true
   },
   "outputs": [
    {
     "data": {
      "text/html": [
       "<div>\n",
       "<style scoped>\n",
       "    .dataframe tbody tr th:only-of-type {\n",
       "        vertical-align: middle;\n",
       "    }\n",
       "\n",
       "    .dataframe tbody tr th {\n",
       "        vertical-align: top;\n",
       "    }\n",
       "\n",
       "    .dataframe thead th {\n",
       "        text-align: right;\n",
       "    }\n",
       "</style>\n",
       "<table border=\"1\" class=\"dataframe\">\n",
       "  <thead>\n",
       "    <tr style=\"text-align: right;\">\n",
       "      <th></th>\n",
       "      <th>SalePrice</th>\n",
       "      <th>LotFrontage</th>\n",
       "      <th>BldgType_2fmCon</th>\n",
       "      <th>BldgType_Duplex</th>\n",
       "      <th>BldgType_Twnhs</th>\n",
       "      <th>BldgType_TwnhsE</th>\n",
       "    </tr>\n",
       "  </thead>\n",
       "  <tbody>\n",
       "    <tr>\n",
       "      <th>152</th>\n",
       "      <td>190000</td>\n",
       "      <td>70.049958</td>\n",
       "      <td>0</td>\n",
       "      <td>0</td>\n",
       "      <td>0</td>\n",
       "      <td>0</td>\n",
       "    </tr>\n",
       "    <tr>\n",
       "      <th>481</th>\n",
       "      <td>374000</td>\n",
       "      <td>72.000000</td>\n",
       "      <td>0</td>\n",
       "      <td>0</td>\n",
       "      <td>0</td>\n",
       "      <td>0</td>\n",
       "    </tr>\n",
       "    <tr>\n",
       "      <th>1077</th>\n",
       "      <td>138800</td>\n",
       "      <td>70.049958</td>\n",
       "      <td>0</td>\n",
       "      <td>0</td>\n",
       "      <td>0</td>\n",
       "      <td>0</td>\n",
       "    </tr>\n",
       "    <tr>\n",
       "      <th>1159</th>\n",
       "      <td>185000</td>\n",
       "      <td>76.000000</td>\n",
       "      <td>0</td>\n",
       "      <td>0</td>\n",
       "      <td>0</td>\n",
       "      <td>0</td>\n",
       "    </tr>\n",
       "    <tr>\n",
       "      <th>1236</th>\n",
       "      <td>175500</td>\n",
       "      <td>36.000000</td>\n",
       "      <td>0</td>\n",
       "      <td>0</td>\n",
       "      <td>1</td>\n",
       "      <td>0</td>\n",
       "    </tr>\n",
       "    <tr>\n",
       "      <th>...</th>\n",
       "      <td>...</td>\n",
       "      <td>...</td>\n",
       "      <td>...</td>\n",
       "      <td>...</td>\n",
       "      <td>...</td>\n",
       "      <td>...</td>\n",
       "    </tr>\n",
       "    <tr>\n",
       "      <th>151</th>\n",
       "      <td>372402</td>\n",
       "      <td>107.000000</td>\n",
       "      <td>0</td>\n",
       "      <td>0</td>\n",
       "      <td>0</td>\n",
       "      <td>0</td>\n",
       "    </tr>\n",
       "    <tr>\n",
       "      <th>1210</th>\n",
       "      <td>189000</td>\n",
       "      <td>70.000000</td>\n",
       "      <td>0</td>\n",
       "      <td>0</td>\n",
       "      <td>0</td>\n",
       "      <td>0</td>\n",
       "    </tr>\n",
       "    <tr>\n",
       "      <th>679</th>\n",
       "      <td>128500</td>\n",
       "      <td>70.049958</td>\n",
       "      <td>0</td>\n",
       "      <td>0</td>\n",
       "      <td>0</td>\n",
       "      <td>0</td>\n",
       "    </tr>\n",
       "    <tr>\n",
       "      <th>418</th>\n",
       "      <td>126000</td>\n",
       "      <td>60.000000</td>\n",
       "      <td>0</td>\n",
       "      <td>0</td>\n",
       "      <td>0</td>\n",
       "      <td>0</td>\n",
       "    </tr>\n",
       "    <tr>\n",
       "      <th>1422</th>\n",
       "      <td>136500</td>\n",
       "      <td>37.000000</td>\n",
       "      <td>0</td>\n",
       "      <td>0</td>\n",
       "      <td>0</td>\n",
       "      <td>1</td>\n",
       "    </tr>\n",
       "  </tbody>\n",
       "</table>\n",
       "<p>146 rows × 6 columns</p>\n",
       "</div>"
      ],
      "text/plain": [
       "      SalePrice  LotFrontage  BldgType_2fmCon  BldgType_Duplex  \\\n",
       "152      190000    70.049958                0                0   \n",
       "481      374000    72.000000                0                0   \n",
       "1077     138800    70.049958                0                0   \n",
       "1159     185000    76.000000                0                0   \n",
       "1236     175500    36.000000                0                0   \n",
       "...         ...          ...              ...              ...   \n",
       "151      372402   107.000000                0                0   \n",
       "1210     189000    70.000000                0                0   \n",
       "679      128500    70.049958                0                0   \n",
       "418      126000    60.000000                0                0   \n",
       "1422     136500    37.000000                0                0   \n",
       "\n",
       "      BldgType_Twnhs  BldgType_TwnhsE  \n",
       "152                0                0  \n",
       "481                0                0  \n",
       "1077               0                0  \n",
       "1159               0                0  \n",
       "1236               1                0  \n",
       "...              ...              ...  \n",
       "151                0                0  \n",
       "1210               0                0  \n",
       "679                0                0  \n",
       "418                0                0  \n",
       "1422               0                1  \n",
       "\n",
       "[146 rows x 6 columns]"
      ]
     },
     "execution_count": 28,
     "metadata": {},
     "output_type": "execute_result"
    }
   ],
   "source": [
    "dfFilter3 = dfFilter2[[\"BldgType\",\"SalePrice\",\"LotFrontage\"]]\n",
    "df3 = pd.get_dummies(data = dfFilter3,drop_first = True)\n",
    "df_final = df3.sample(frac=1/10,replace=True)\n",
    "df_final"
   ]
  },
  {
   "cell_type": "code",
   "execution_count": 29,
   "id": "aa9d4359",
   "metadata": {},
   "outputs": [],
   "source": [
    "X3 = df_final.drop(columns='SalePrice')\n",
    "y3 = df_final.SalePrice"
   ]
  },
  {
   "cell_type": "code",
   "execution_count": 30,
   "id": "f70d75f2",
   "metadata": {},
   "outputs": [],
   "source": [
    "from sklearn.ensemble import RandomForestClassifier\n",
    "\n",
    "X_train3, X_test3, y_train3, y_test3 = train_test_split(X3, y3,test_size=0.25, random_state=0)\n",
    "forest=RandomForestClassifier(n_estimators = 100,\n",
    "                              criterion = 'gini',\n",
    "                              max_features = True,\n",
    "                              max_samples = 1/10,\n",
    "                              oob_score=True)\n",
    "\n",
    "modelo3 = forest.fit(X_train3,y_train3)"
   ]
  },
  {
   "cell_type": "code",
   "execution_count": 31,
   "id": "5e221201",
   "metadata": {},
   "outputs": [
    {
     "name": "stdout",
     "output_type": "stream",
     "text": [
      "Accuracy: 0.28440366972477066\n",
      "puntuación del modelo en los datos de entrenamiento: 0.28440366972477066\n",
      "puntuación del modelo en los datos de testing: 0.02702702702702703\n"
     ]
    }
   ],
   "source": [
    "y_trainOut3 = modelo3.predict(X_train3)\n",
    "print(\"Accuracy:\",metrics.accuracy_score(y_train3, y_trainOut3))\n",
    "print(f'puntuación del modelo en los datos de entrenamiento: {modelo3.score(X_train3, y_train3)}')\n",
    "print(f'puntuación del modelo en los datos de testing: {modelo3.score(X_test3, y_test3)}')"
   ]
  },
  {
   "cell_type": "markdown",
   "id": "5cb668fe",
   "metadata": {},
   "source": [
    "<p>Como se puede observar, con 100 arboles y reduciendo los valores mejora un poco el desempaño</p>"
   ]
  },
  {
   "cell_type": "code",
   "execution_count": 32,
   "id": "4f9683a1",
   "metadata": {},
   "outputs": [
    {
     "data": {
      "text/plain": [
       "'for arbol in forest.estimators_:\\n    tree.plot_tree(arbol,feature_names = df_final.columns[:-1])\\n    plt.show()'"
      ]
     },
     "execution_count": 32,
     "metadata": {},
     "output_type": "execute_result"
    }
   ],
   "source": [
    "\"\"\"for arbol in forest.estimators_:\n",
    "    tree.plot_tree(arbol,feature_names = df_final.columns[:-1])\n",
    "    plt.show()\"\"\""
   ]
  },
  {
   "cell_type": "markdown",
   "id": "8d8dbaf1",
   "metadata": {},
   "source": [
    "<p>Se crea la matriz de confusión, en este caso es dificil de interpretar debido a la gran cantidad de datos.</p>"
   ]
  },
  {
   "cell_type": "code",
   "execution_count": 33,
   "id": "7bed831a",
   "metadata": {},
   "outputs": [
    {
     "name": "stdout",
     "output_type": "stream",
     "text": [
      "[[0 0 0 ... 0 0 0]\n",
      " [0 0 0 ... 1 0 0]\n",
      " [0 0 0 ... 0 0 0]\n",
      " ...\n",
      " [0 0 0 ... 0 0 0]\n",
      " [0 0 0 ... 0 0 0]\n",
      " [0 0 0 ... 0 0 0]]\n"
     ]
    }
   ],
   "source": [
    "y_pred3 = modelo3.predict(X_test3)\n",
    "cm=metrics.confusion_matrix(y_test3,y_pred3)\n",
    "print(cm)"
   ]
  },
  {
   "cell_type": "markdown",
   "id": "60b68fd2",
   "metadata": {},
   "source": [
    "<p>Como conclusión para este set de datos, no fue muy efectivo realizar un proceso de clasificación de este set de datos.</p>"
   ]
  }
 ],
 "metadata": {
  "kernelspec": {
   "display_name": "Python 3 (ipykernel)",
   "language": "python",
   "name": "python3"
  },
  "language_info": {
   "codemirror_mode": {
    "name": "ipython",
    "version": 3
   },
   "file_extension": ".py",
   "mimetype": "text/x-python",
   "name": "python",
   "nbconvert_exporter": "python",
   "pygments_lexer": "ipython3",
   "version": "3.9.12"
  }
 },
 "nbformat": 4,
 "nbformat_minor": 5
}
